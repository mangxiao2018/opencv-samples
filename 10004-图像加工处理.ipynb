{
 "cells": [
  {
   "cell_type": "markdown",
   "metadata": {},
   "source": [
    "# 图像加工处理"
   ]
  },
  {
   "cell_type": "markdown",
   "metadata": {},
   "source": [
    "### 1、方框滤波"
   ]
  },
  {
   "cell_type": "code",
   "execution_count": 3,
   "metadata": {},
   "outputs": [],
   "source": [
    "import cv2 as cv\n",
    "import numpy as np\n",
    "#读取图像\n",
    "img = cv.imread('images/horses.jpg', cv.IMREAD_UNCHANGED)\n",
    "# 滤波\n",
    "r = cv.boxFilter(img, -1 , (7,7) , normalize = 1)\n",
    "d = cv.boxFilter(img, -1 , (3,3) , normalize = 0)\n",
    "\n",
    "cv.namedWindow('img', cv.WINDOW_AUTOSIZE)\n",
    "cv.namedWindow('r', cv.WINDOW_AUTOSIZE)\n",
    "cv.namedWindow('d', cv.WINDOW_AUTOSIZE)\n",
    "\n",
    "cv.imshow('r',r)\n",
    "cv.imshow('d', d)\n",
    "cv.waitKey(0)\n",
    "cv.destroyAllWindows()"
   ]
  },
  {
   "cell_type": "code",
   "execution_count": null,
   "metadata": {},
   "outputs": [],
   "source": []
  }
 ],
 "metadata": {
  "kernelspec": {
   "display_name": "Python 3",
   "language": "python",
   "name": "python3"
  },
  "language_info": {
   "codemirror_mode": {
    "name": "ipython",
    "version": 3
   },
   "file_extension": ".py",
   "mimetype": "text/x-python",
   "name": "python",
   "nbconvert_exporter": "python",
   "pygments_lexer": "ipython3",
   "version": "3.7.7"
  }
 },
 "nbformat": 4,
 "nbformat_minor": 4
}
