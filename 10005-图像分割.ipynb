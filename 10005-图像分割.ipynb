{
 "cells": [
  {
   "cell_type": "markdown",
   "metadata": {},
   "source": [
    "# 图像分割"
   ]
  },
  {
   "cell_type": "markdown",
   "metadata": {},
   "source": [
    "## 1、固定阈值"
   ]
  },
  {
   "cell_type": "code",
   "execution_count": 7,
   "metadata": {},
   "outputs": [
    {
     "name": "stdout",
     "output_type": "stream",
     "text": [
      "[[  1   3   3 ...  49  49  64]\n",
      " [  2   2   2 ... 252 253 250]\n",
      " [  5   2   2 ... 253 251 249]\n",
      " ...\n",
      " [  1   0   0 ... 255 254 255]\n",
      " [  2   1   1 ... 141 141 147]\n",
      " [  1   1   1 ...   3   4  11]]\n",
      "127.0\n",
      "[[  0   0   0 ...   0   0   0]\n",
      " [  0   0   0 ... 255 255 255]\n",
      " [  0   0   0 ... 255 255 255]\n",
      " ...\n",
      " [  0   0   0 ... 255 255 255]\n",
      " [  0   0   0 ... 255 255 255]\n",
      " [  0   0   0 ...   0   0   0]]\n"
     ]
    }
   ],
   "source": [
    "import cv2 as cv\n",
    "import matplotlib.pyplot as plt\n",
    "# 灰度图读入\n",
    "img = cv.imread('images/thresh.png', 0)\n",
    "print(img)\n",
    "threshold = 127\n",
    "# 阈值分割\n",
    "ret, th = cv.threshold(img, threshold, 255, cv.THRESH_BINARY)\n",
    "print(ret)\n",
    "print(th)\n",
    "\n",
    "cv.imshow('thresh', th)\n",
    "cv.waitKey(0)\n",
    "cv.destroyAllWindows()"
   ]
  },
  {
   "cell_type": "code",
   "execution_count": null,
   "metadata": {},
   "outputs": [],
   "source": []
  },
  {
   "cell_type": "code",
   "execution_count": null,
   "metadata": {},
   "outputs": [],
   "source": []
  }
 ],
 "metadata": {
  "kernelspec": {
   "display_name": "Python 3",
   "language": "python",
   "name": "python3"
  },
  "language_info": {
   "codemirror_mode": {
    "name": "ipython",
    "version": 3
   },
   "file_extension": ".py",
   "mimetype": "text/x-python",
   "name": "python",
   "nbconvert_exporter": "python",
   "pygments_lexer": "ipython3",
   "version": "3.7.7"
  }
 },
 "nbformat": 4,
 "nbformat_minor": 4
}
