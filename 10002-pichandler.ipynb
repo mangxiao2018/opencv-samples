{
 "cells": [
  {
   "cell_type": "markdown",
   "metadata": {},
   "source": [
    "# 图片处理"
   ]
  },
  {
   "cell_type": "markdown",
   "metadata": {},
   "source": [
    "## 1、读取图片"
   ]
  },
  {
   "cell_type": "code",
   "execution_count": 1,
   "metadata": {},
   "outputs": [],
   "source": [
    "#导入opencv的python版本依赖库cv2\n",
    "import cv2"
   ]
  },
  {
   "cell_type": "code",
   "execution_count": 2,
   "metadata": {},
   "outputs": [],
   "source": [
    "#使用opencv中imread函数读取图片，\n",
    "#0代表灰度图形式打开，1代表彩色形式打开\n",
    "img = cv2.imread('images/horses.jpg',0)"
   ]
  },
  {
   "cell_type": "code",
   "execution_count": 3,
   "metadata": {},
   "outputs": [
    {
     "name": "stdout",
     "output_type": "stream",
     "text": [
      "(252, 378)\n"
     ]
    }
   ],
   "source": [
    "print(img.shape)"
   ]
  },
  {
   "cell_type": "markdown",
   "metadata": {},
   "source": [
    "## 2、图片的显示及保存图像"
   ]
  },
  {
   "cell_type": "code",
   "execution_count": 1,
   "metadata": {},
   "outputs": [],
   "source": [
    "# 导入cv2依赖库\n",
    "import cv2 as cv\n",
    "#读取图像，读取方式为彩色读取\n",
    "img = cv.imread('images/horses.jpg',1)\n",
    "# 展示读取的图像\n",
    "cv.imshow('photo',img)\n",
    "# 获取键盘输入键\n",
    "key = cv.waitKey(0)\n",
    "# 输入ESC键退出\n",
    "if key == 27:\n",
    "    cv.destroyAllWindows()\n",
    "elif key == ord('s'): # 输入S键保存图片并退出\n",
    "    cv.imwrite('images/horses_.jpg',img)\n",
    "cv.destroyAllWindows()    "
   ]
  },
  {
   "cell_type": "code",
   "execution_count": null,
   "metadata": {},
   "outputs": [],
   "source": []
  }
 ],
 "metadata": {
  "kernelspec": {
   "display_name": "Python 3",
   "language": "python",
   "name": "python3"
  },
  "language_info": {
   "codemirror_mode": {
    "name": "ipython",
    "version": 3
   },
   "file_extension": ".py",
   "mimetype": "text/x-python",
   "name": "python",
   "nbconvert_exporter": "python",
   "pygments_lexer": "ipython3",
   "version": "3.7.7"
  }
 },
 "nbformat": 4,
 "nbformat_minor": 4
}
