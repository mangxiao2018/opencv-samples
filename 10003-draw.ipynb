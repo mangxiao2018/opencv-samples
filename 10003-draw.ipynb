{
 "cells": [
  {
   "cell_type": "markdown",
   "metadata": {},
   "source": [
    "# 绘图"
   ]
  },
  {
   "cell_type": "markdown",
   "metadata": {},
   "source": [
    "## 1、绘制线段"
   ]
  },
  {
   "cell_type": "code",
   "execution_count": 9,
   "metadata": {},
   "outputs": [
    {
     "name": "stdout",
     "output_type": "stream",
     "text": [
      "(512, 512, 3)\n"
     ]
    }
   ],
   "source": [
    "import numpy as np\n",
    "import cv2 as cv\n",
    "# 创建一张黑色的背景图\n",
    "img = np.zeros((512,512,3), np.uint8)\n",
    "print(img.shape)\n",
    "#print(img)\n",
    "cv.imshow('black', img)\n",
    "cv.waitKey(0)\n",
    "cv.destroyAllWindows()\n",
    "# 绘制一条线宽为5的线段\n",
    "# param1:背景图，param2:起点坐标，param3:终点坐标，param4:线颜色,param5:线粗细\n",
    "cv.line(img, (0,0),(200,500),(0,0,255),1)\n",
    "\n",
    "winname = 'example'\n",
    "cv.namedWindow(winname)\n",
    "cv.imshow(winname,img)\n",
    "cv.waitKey(0)\n",
    "cv.destroyAllWindows()"
   ]
  },
  {
   "cell_type": "markdown",
   "metadata": {},
   "source": [
    "## 2、绘制矩形"
   ]
  },
  {
   "cell_type": "code",
   "execution_count": 5,
   "metadata": {},
   "outputs": [],
   "source": [
    "import numpy as np\n",
    "import cv2 as cv\n",
    "# 创建一张黑色的背景图\n",
    "img = np.zeros((512,512,3), np.uint8)\n",
    "# 画一个绿色边框的矩形，参数2：左上角坐标，参数3：右下角坐标\n",
    "cv.rectangle(img, (100, 100), (402, 80), (0,255,255), 1)\n",
    "\n",
    "cv.namedWindow('example')\n",
    "cv.imshow('example', img)\n",
    "cv.waitKey(0)\n",
    "cv.destroyAllWindows()"
   ]
  },
  {
   "cell_type": "markdown",
   "metadata": {},
   "source": [
    "## 3、绘制圆"
   ]
  },
  {
   "cell_type": "code",
   "execution_count": 10,
   "metadata": {},
   "outputs": [],
   "source": [
    "import numpy as np\n",
    "import cv2 as cv\n",
    "# 创建一张黑色的背景图\n",
    "img = np.zeros((512,512,3), np.uint8)\n",
    "# 画一个填充红色的圆，参数2：圆心坐标，参数3：半径\n",
    "cv.circle(img, (300,300), 63, (0,0,255), -1)\n",
    "\n",
    "cv.namedWindow('example')\n",
    "cv.imshow('example', img)\n",
    "cv.waitKey(0)\n",
    "cv.destroyAllWindows()"
   ]
  },
  {
   "cell_type": "markdown",
   "metadata": {},
   "source": [
    "## 4、绘制椭圆"
   ]
  },
  {
   "cell_type": "code",
   "execution_count": 15,
   "metadata": {},
   "outputs": [],
   "source": [
    "import numpy as np\n",
    "import cv2 as cv \n",
    "# 创建一张黑色的背景图\n",
    "img = np.zeros((512,512,3), np.uint8)\n",
    "# 在图中心画一个填充的半圆\n",
    "cv.ellipse(img, (256,256), (100,50), 0, 720, 180, (255,0,0), -1)\n",
    "\n",
    "cv.namedWindow('example')\n",
    "cv.imshow('example', img)\n",
    "cv.waitKey(0)\n",
    "cv.destroyAllWindows()"
   ]
  },
  {
   "cell_type": "markdown",
   "metadata": {},
   "source": [
    "## 5、绘制多边形"
   ]
  },
  {
   "cell_type": "code",
   "execution_count": 19,
   "metadata": {},
   "outputs": [
    {
     "name": "stdout",
     "output_type": "stream",
     "text": [
      "[[100 100]\n",
      " [250 120]\n",
      " [120 200]\n",
      " [200 300]]\n",
      "[[[100 100]]\n",
      "\n",
      " [[250 120]]\n",
      "\n",
      " [[120 200]]\n",
      "\n",
      " [[200 300]]]\n"
     ]
    }
   ],
   "source": [
    "import numpy as np\n",
    "import cv2 as cv\n",
    "# 创建一张黑色的背景图\n",
    "img = np.zeros((512,512,3),np.uint8)\n",
    "# 定义四个顶点坐标\n",
    "pts = np.array([[100,100], [250,120], [120,200], [200,300]])\n",
    "print(pts)\n",
    "# 顶点个数：4，矩阵变成4*1*2维\n",
    "pts = pts.reshape((-1, 1, 2))\n",
    "print(pts)\n",
    "#绘制椭圆\n",
    "cv.polylines(img, [pts], False, (0, 255, 255))\n",
    "\n",
    "cv.namedWindow('example')\n",
    "cv.imshow('example', img)\n",
    "cv.waitKey(0)\n",
    "cv.destroyAllWindows()"
   ]
  },
  {
   "cell_type": "markdown",
   "metadata": {},
   "source": [
    "## 6、添加文字"
   ]
  },
  {
   "cell_type": "code",
   "execution_count": 26,
   "metadata": {},
   "outputs": [],
   "source": [
    "import numpy as np\n",
    "import cv2 as cv\n",
    "# 创建一张黑色的背景图\n",
    "img = np.zeros((512,512,3), np.uint8)\n",
    "#添加文字\n",
    "font = cv.FONT_HERSHEY_SIMPLEX\n",
    "cv.putText(img, 'hello',(50,200), font, 3,(0,255,255),5)\n",
    "\n",
    "cv.namedWindow('example')\n",
    "cv.imshow('example', img)\n",
    "cv.waitKey(0)\n",
    "cv.destroyAllWindows()"
   ]
  },
  {
   "cell_type": "markdown",
   "metadata": {},
   "source": [
    "## 7、综合图像绘制"
   ]
  },
  {
   "cell_type": "code",
   "execution_count": 28,
   "metadata": {},
   "outputs": [],
   "source": [
    "import numpy as np\n",
    "import cv2 as cv\n",
    "\n",
    "# 创建一张黑色的背景图\n",
    "img = np.zeros((512,512,3), np.uint8)\n",
    "\n",
    "# 绘制一条线宽为5的线段\n",
    "cv.line(img, (0,0),(511,511),(255,0,0),1)\n",
    "\n",
    "# 画一个绿色边框的矩形，参数2：左上角坐标，参数3：右下角坐标\n",
    "cv.rectangle(img,(384,0),(510,128),(0,255,0),3)\n",
    "\n",
    "# 画一个填充红色的圆，参数2：圆心坐标，参数3：半径\n",
    "cv.circle(img, (447,63), 63, (0,0,255), -1)\n",
    "\n",
    "# 在图中心画一个填充的半圆\n",
    "cv.ellipse(img,(256,256), (100,50), 0, 0, 180, (255,0,0), -1)\n",
    "\n",
    "#绘制多边形\n",
    "pts = np.array([[10,5], [20,30], [70,20], [50,10]], np.int32)\n",
    "pts = pts.reshape((-1,1,2))\n",
    "cv.polylines(img,[pts], True, (0,0,255),1)\n",
    "# 这里 reshape 的第一个参数为-1, 表明这一维的长度是根据后面的维度的计算出来的。\n",
    "#添加文字\n",
    "font = cv.FONT_HERSHEY_SIMPLEX\n",
    "cv.putText(img, 'Hello', (10,500), font, 4,(255,255,255),2)\n",
    "cv.namedWindow('example')\n",
    "cv.imshow('example', img)\n",
    "cv.waitKey(0)\n",
    "cv.destroyAllWindows()"
   ]
  },
  {
   "cell_type": "markdown",
   "metadata": {},
   "source": [
    "## 8、图像平移"
   ]
  },
  {
   "cell_type": "code",
   "execution_count": 31,
   "metadata": {},
   "outputs": [
    {
     "name": "stdout",
     "output_type": "stream",
     "text": [
      "[[ 1.  0. 50.]\n",
      " [ 0.  1. 25.]]\n",
      "(512, 512, 3)\n",
      "512 512\n"
     ]
    }
   ],
   "source": [
    "import cv2 as cv\n",
    "import numpy as np\n",
    "im = cv.imread('images/img2.png')\n",
    "\n",
    "# 构造移动矩阵H\n",
    "# 在x轴方向移动多少距离，在y轴方向移动多少距离\n",
    "H = np.float32([[1,0,50], [0,1,25]])\n",
    "print(H)\n",
    "rows, cols = img.shape[:2]\n",
    "print(img.shape)\n",
    "print(rows, cols)\n",
    "\n",
    "# 注意这里rows和cols需要反置，即先列后行\n",
    "res = cv.warpAffine(img, H, (2*cols, 2*rows))\n",
    "cv.imshow('src', img)\n",
    "cv.imshow('new', res)\n",
    "cv.waitKey(0)\n",
    "cv.destroyAllWindows()"
   ]
  },
  {
   "cell_type": "markdown",
   "metadata": {},
   "source": [
    "## 9、图像缩放"
   ]
  },
  {
   "cell_type": "code",
   "execution_count": 2,
   "metadata": {},
   "outputs": [],
   "source": [
    "import cv2 as cv\n",
    "import numpy as np\n",
    "\n",
    "img = cv.imread('images/horses.jpg')\n",
    "# 方法一：通过设置缩放比例，来对图像进行放大或缩小\n",
    "res1 = cv.resize(img, None, fx=2, fy=2, interpolation=cv.INTER_CUBIC)\n",
    "\n",
    "height, width = img.shape[:2]\n",
    "# 方法二：直接设置图像的大小，不需要缩放因子\n",
    "#cv2.INTER_NEAREST（最近邻插值） cv2.INTER_AREA （区域插值） cv2.INTER_CUBIC（三次样条插值） cv2.INTER_LANCZOS4（Lanczos插值）\n",
    "res2 = cv.resize(img, (int(0.8*width), int(0.8*height)),interpolation=cv.INTER_LANCZOS4)\n",
    "\n",
    "cv.imshow('src', img)\n",
    "cv.imshow('res2', res2)\n",
    "\n",
    "cv.waitKey(0)\n",
    "cv.destroyAllWindows()"
   ]
  },
  {
   "cell_type": "markdown",
   "metadata": {},
   "source": [
    "## 10、图像旋转"
   ]
  },
  {
   "cell_type": "code",
   "execution_count": 3,
   "metadata": {},
   "outputs": [
    {
     "name": "stdout",
     "output_type": "stream",
     "text": [
      "[[  0.70710678   0.70710678 -33.73863607]\n",
      " [ -0.70710678   0.70710678 170.54772721]]\n"
     ]
    }
   ],
   "source": [
    "import cv2 as cv\n",
    "import numpy as np\n",
    "\n",
    "img = cv.imread('images/horses.jpg')\n",
    "rows, cols = img.shape[:2]\n",
    "#参数1：旋转中心，参数2：旋转角度，参数3：缩放因子\n",
    "#参数3正为逆时针，负值为正时针\n",
    "M = cv.getRotationMatrix2D((cols/2, rows/2), 45, 1)\n",
    "print(M)\n",
    "#第三个参数是输出图像的尺寸中心\n",
    "dst = cv.warpAffine(img, M, (cols, rows))\n",
    "\n",
    "while(1):\n",
    "    cv.imshow('img',img)\n",
    "    cv.imshow('img2',dst)\n",
    "    #0xFF==27  ESC\n",
    "    if cv.waitKey(1) & 0xFF==27:\n",
    "        break\n",
    "cv.destroyAllWindows()        "
   ]
  },
  {
   "cell_type": "markdown",
   "metadata": {},
   "source": [
    "## 11、仿射变换"
   ]
  },
  {
   "cell_type": "code",
   "execution_count": 2,
   "metadata": {},
   "outputs": [
    {
     "name": "stdout",
     "output_type": "stream",
     "text": [
      "[[  1.26666667   0.6        -83.33333333]\n",
      " [ -0.33333333   1.          66.66666667]]\n"
     ]
    }
   ],
   "source": [
    "import cv2 as cv\n",
    "import numpy as np\n",
    "import matplotlib.pyplot as plt\n",
    "#读取图片\n",
    "src = cv.imread('images/horses.jpg')\n",
    "#获取图像大小\n",
    "rows, cols = src.shape[:2]\n",
    "#设置图像仿射变换矩阵\n",
    "pos1 = np.float32([[50,50], [200,50], [50,200]])\n",
    "pos2 = np.float32([[10,100], [200,50], [100,250]])\n",
    "M = cv.getAffineTransform(pos1, pos2)\n",
    "print(M)\n",
    "#图像仿射变换\n",
    "result = cv.warpAffine(src, M, (2*cols, 2*rows))\n",
    "#显示图像\n",
    "cv.imshow('src', src)\n",
    "cv.imshow('result', result)\n",
    "#等待显示\n",
    "cv.waitKey(0)\n",
    "cv.destroyAllWindows()"
   ]
  },
  {
   "cell_type": "markdown",
   "metadata": {},
   "source": [
    "## 12、透视变化"
   ]
  },
  {
   "cell_type": "code",
   "execution_count": 4,
   "metadata": {},
   "outputs": [],
   "source": [
    "import cv2 as cv \n",
    "import numpy as np\n",
    "import matplotlib.pyplot as plt\n",
    "#读取图片\n",
    "src = cv.imread('images/horses.jpg')\n",
    "#获取图像大小\n",
    "rows, cols = src.shape[:2]\n",
    "#设置图像透视变换矩阵\n",
    "pos1 = np.float32([[114,82],[287,156], [8,100],[143,177]])\n",
    "pos2 = np.float32([[0,0],[188,0], [0,262],[188,262]])\n",
    "\n",
    "M = cv.getPerspectiveTransform(pos1, pos2)\n",
    "#图像透视变换\n",
    "result = cv.warpPerspective(src, M, (2*cols, 2*rows))\n",
    "#显示图像\n",
    "cv.imshow('src', src)\n",
    "cv.imshow('result', result)\n",
    "#等待显示\n",
    "cv.waitKey(0)\n",
    "cv.destroyAllWindows()"
   ]
  },
  {
   "cell_type": "code",
   "execution_count": null,
   "metadata": {},
   "outputs": [],
   "source": []
  }
 ],
 "metadata": {
  "kernelspec": {
   "display_name": "Python 3",
   "language": "python",
   "name": "python3"
  },
  "language_info": {
   "codemirror_mode": {
    "name": "ipython",
    "version": 3
   },
   "file_extension": ".py",
   "mimetype": "text/x-python",
   "name": "python",
   "nbconvert_exporter": "python",
   "pygments_lexer": "ipython3",
   "version": "3.7.7"
  }
 },
 "nbformat": 4,
 "nbformat_minor": 4
}
