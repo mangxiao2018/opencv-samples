{
 "cells": [
  {
   "cell_type": "markdown",
   "metadata": {},
   "source": [
    "# 绘图"
   ]
  },
  {
   "cell_type": "markdown",
   "metadata": {},
   "source": [
    "## 1、绘制线段"
   ]
  },
  {
   "cell_type": "code",
   "execution_count": 9,
   "metadata": {},
   "outputs": [
    {
     "name": "stdout",
     "output_type": "stream",
     "text": [
      "(512, 512, 3)\n"
     ]
    }
   ],
   "source": [
    "import numpy as np\n",
    "import cv2 as cv\n",
    "# 创建一张黑色的背景图\n",
    "img = np.zeros((512,512,3), np.uint8)\n",
    "print(img.shape)\n",
    "#print(img)\n",
    "cv.imshow('black', img)\n",
    "cv.waitKey(0)\n",
    "cv.destroyAllWindows()\n",
    "# 绘制一条线宽为5的线段\n",
    "# param1:背景图，param2:起点坐标，param3:终点坐标，param4:线颜色,param5:线粗细\n",
    "cv.line(img, (0,0),(200,500),(0,0,255),1)\n",
    "\n",
    "winname = 'example'\n",
    "cv.namedWindow(winname)\n",
    "cv.imshow(winname,img)\n",
    "cv.waitKey(0)\n",
    "cv.destroyAllWindows()"
   ]
  },
  {
   "cell_type": "markdown",
   "metadata": {},
   "source": [
    "## 2、绘制矩形"
   ]
  },
  {
   "cell_type": "code",
   "execution_count": 5,
   "metadata": {},
   "outputs": [],
   "source": [
    "import numpy as np\n",
    "import cv2 as cv\n",
    "# 创建一张黑色的背景图\n",
    "img = np.zeros((512,512,3), np.uint8)\n",
    "# 画一个绿色边框的矩形，参数2：左上角坐标，参数3：右下角坐标\n",
    "cv.rectangle(img, (100, 100), (402, 80), (0,255,255), 1)\n",
    "\n",
    "cv.namedWindow('example')\n",
    "cv.imshow('example', img)\n",
    "cv.waitKey(0)\n",
    "cv.destroyAllWindows()"
   ]
  },
  {
   "cell_type": "markdown",
   "metadata": {},
   "source": [
    "## 3、绘制圆"
   ]
  },
  {
   "cell_type": "code",
   "execution_count": 10,
   "metadata": {},
   "outputs": [],
   "source": [
    "import numpy as np\n",
    "import cv2 as cv\n",
    "# 创建一张黑色的背景图\n",
    "img = np.zeros((512,512,3), np.uint8)\n",
    "# 画一个填充红色的圆，参数2：圆心坐标，参数3：半径\n",
    "cv.circle(img, (300,300), 63, (0,0,255), -1)\n",
    "\n",
    "cv.namedWindow('example')\n",
    "cv.imshow('example', img)\n",
    "cv.waitKey(0)\n",
    "cv.destroyAllWindows()"
   ]
  },
  {
   "cell_type": "code",
   "execution_count": null,
   "metadata": {},
   "outputs": [],
   "source": []
  }
 ],
 "metadata": {
  "kernelspec": {
   "display_name": "Python 3",
   "language": "python",
   "name": "python3"
  },
  "language_info": {
   "codemirror_mode": {
    "name": "ipython",
    "version": 3
   },
   "file_extension": ".py",
   "mimetype": "text/x-python",
   "name": "python",
   "nbconvert_exporter": "python",
   "pygments_lexer": "ipython3",
   "version": "3.7.7"
  }
 },
 "nbformat": 4,
 "nbformat_minor": 4
}
